{
 "cells": [
  {
   "cell_type": "code",
   "execution_count": 11,
   "metadata": {
    "ExecuteTime": {
     "end_time": "2019-07-20T04:31:00.843704Z",
     "start_time": "2019-07-20T04:31:00.837780Z"
    }
   },
   "outputs": [],
   "source": [
    "import pandas as pd\n",
    "import numpy as np\n",
    "from catboost import CatBoostClassifier, Pool\n",
    "from sklearn.model_selection import train_test_split\n",
    "from sklearn.preprocessing import OrdinalEncoder\n",
    "from sklearn.metrics import confusion_matrix, classification_report, f1_score, fbeta_score, auc, roc_curve, precision_score, recall_score\n",
    "from sklearn.model_selection import KFold\n",
    "import mlflow\n",
    "from mlflow import log_metric, log_param, log_artifact\n",
    "import mlflow.sklearn\n",
    "import mlflow.pyfunc\n",
    "import json\n",
    "import shap\n",
    "from utils import *"
   ]
  },
  {
   "cell_type": "code",
   "execution_count": 2,
   "metadata": {
    "ExecuteTime": {
     "end_time": "2019-07-20T04:13:14.603988Z",
     "start_time": "2019-07-20T04:13:14.599902Z"
    }
   },
   "outputs": [],
   "source": [
    "cat_cols = [\"DeviceType\", \"DeviceInfo\"]\n",
    "cat_cols += [\"id_\"+str(i) for i in range(12,39)]\n",
    "cat_cols += [\"ProductCD\",\"addr1\", \"addr2\", \"P_emaildomain\", \"R_emaildomain\"]\n",
    "cat_cols += [\"card\"+str(i) for i in range(1,7)]\n",
    "cat_cols += [\"M\"+str(i) for i in range(1,10)]"
   ]
  },
  {
   "cell_type": "code",
   "execution_count": 4,
   "metadata": {
    "ExecuteTime": {
     "end_time": "2019-07-20T04:17:59.325311Z",
     "start_time": "2019-07-20T04:17:59.321457Z"
    }
   },
   "outputs": [],
   "source": [
    "input_dir = \"data/prepped/\""
   ]
  },
  {
   "cell_type": "code",
   "execution_count": 5,
   "metadata": {
    "ExecuteTime": {
     "end_time": "2019-07-20T04:18:15.516856Z",
     "start_time": "2019-07-20T04:18:11.695202Z"
    }
   },
   "outputs": [],
   "source": [
    "X = pd.read_pickle(input_dir+\"X_train_.pkl\")\n",
    "y = pd.read_pickle(input_dir+\"y_train_.pkl\")"
   ]
  },
  {
   "cell_type": "code",
   "execution_count": 9,
   "metadata": {
    "ExecuteTime": {
     "end_time": "2019-07-20T04:23:54.515236Z",
     "start_time": "2019-07-20T04:23:54.508270Z"
    }
   },
   "outputs": [
    {
     "data": {
      "text/plain": [
       "array([394, 393, 406, 407, 408, 409, 410, 411, 412, 413, 414, 415, 416,\n",
       "       417, 418, 419, 420, 421, 422, 423, 424, 425, 426, 427, 428, 429,\n",
       "       430, 431, 432,  39, 383, 384,  38,  40, 385, 386, 387, 388, 389,\n",
       "       390,  29,  30,  31,  32,  33,  34,  35,  36,  37])"
      ]
     },
     "execution_count": 9,
     "metadata": {},
     "output_type": "execute_result"
    }
   ],
   "source": [
    "cat_col_idx = np.array([X.columns.get_loc(c) for c in cat_cols])\n",
    "cat_col_idx"
   ]
  },
  {
   "cell_type": "code",
   "execution_count": 8,
   "metadata": {
    "ExecuteTime": {
     "end_time": "2019-07-20T04:22:29.097111Z",
     "start_time": "2019-07-20T04:22:29.092356Z"
    }
   },
   "outputs": [],
   "source": [
    "kfold = KFold(n_splits=3, shuffle=False)"
   ]
  },
  {
   "cell_type": "code",
   "execution_count": null,
   "metadata": {
    "ExecuteTime": {
     "start_time": "2019-07-20T04:38:13.169Z"
    }
   },
   "outputs": [
    {
     "name": "stdout",
     "output_type": "stream",
     "text": [
      "Fold no 0\n"
     ]
    }
   ],
   "source": [
    "model = {}\n",
    "metrics = {}\n",
    "for fold, (train_inds, test_inds) in enumerate(kfold.split(X)):\n",
    "    print(\"Fold no \"+str(fold))\n",
    "    X_train, y_train = X.iloc[train_inds], y.iloc[train_inds]\n",
    "    X_val, y_val = X.iloc[test_inds], y.iloc[test_inds]\n",
    "    cb = CatBoostClassifier(iterations=500, eval_metric=\"AUC\", task_type=\"GPU\")\n",
    "    cb.fit(X=X_train, y=y_train, cat_features=cat_col_idx, eval_set=(X_val, y_val), silent=True, plot=True)\n",
    "    preds = cb.predict_proba(X_val)\n",
    "    model[fold] = cb\n",
    "    met = get_metrics(y_val, preds)\n",
    "    print(met)\n",
    "    metrics[fold] = met\n",
    "    plot_roc(y_val, preds)"
   ]
  },
  {
   "cell_type": "code",
   "execution_count": null,
   "metadata": {},
   "outputs": [],
   "source": []
  },
  {
   "cell_type": "code",
   "execution_count": null,
   "metadata": {},
   "outputs": [],
   "source": []
  },
  {
   "cell_type": "code",
   "execution_count": null,
   "metadata": {},
   "outputs": [],
   "source": [
    "explainer = shap.TreeExplainer(cb)"
   ]
  },
  {
   "cell_type": "code",
   "execution_count": null,
   "metadata": {},
   "outputs": [],
   "source": []
  }
 ],
 "metadata": {
  "kernelspec": {
   "display_name": "Python 3",
   "language": "python",
   "name": "python3"
  },
  "language_info": {
   "codemirror_mode": {
    "name": "ipython",
    "version": 3
   },
   "file_extension": ".py",
   "mimetype": "text/x-python",
   "name": "python",
   "nbconvert_exporter": "python",
   "pygments_lexer": "ipython3",
   "version": "3.7.3"
  },
  "toc": {
   "base_numbering": 1,
   "nav_menu": {},
   "number_sections": true,
   "sideBar": true,
   "skip_h1_title": false,
   "title_cell": "Table of Contents",
   "title_sidebar": "Contents",
   "toc_cell": false,
   "toc_position": {},
   "toc_section_display": true,
   "toc_window_display": false
  },
  "varInspector": {
   "cols": {
    "lenName": 16,
    "lenType": 16,
    "lenVar": 40
   },
   "kernels_config": {
    "python": {
     "delete_cmd_postfix": "",
     "delete_cmd_prefix": "del ",
     "library": "var_list.py",
     "varRefreshCmd": "print(var_dic_list())"
    },
    "r": {
     "delete_cmd_postfix": ") ",
     "delete_cmd_prefix": "rm(",
     "library": "var_list.r",
     "varRefreshCmd": "cat(var_dic_list()) "
    }
   },
   "types_to_exclude": [
    "module",
    "function",
    "builtin_function_or_method",
    "instance",
    "_Feature"
   ],
   "window_display": false
  }
 },
 "nbformat": 4,
 "nbformat_minor": 2
}
